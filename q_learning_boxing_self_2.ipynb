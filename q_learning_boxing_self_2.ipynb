{
 "cells": [
  {
   "cell_type": "code",
   "execution_count": 1,
   "metadata": {},
   "outputs": [],
   "source": [
    "import torch\n",
    "import torch.nn as nn\n",
    "import torch.nn.functional as F\n",
    "import numpy as np\n",
    "import matplotlib.pyplot as plt\n",
    "import gymnasium as gym\n",
    "import random\n",
    "#import deque\n",
    "from pyvirtualdisplay import Display\n",
    "import cv2\n",
    "import warnings\n",
    "warnings.simplefilter('ignore')"
   ]
  },
  {
   "cell_type": "code",
   "execution_count": 2,
   "metadata": {},
   "outputs": [],
   "source": [
    "class ExperienceReplay():\n",
    "    \n",
    "    def __init__(self, capacity, device):\n",
    "        self.memory = []\n",
    "        self.capacity = capacity\n",
    "        self.device = device\n",
    "        \n",
    "    def push(self, experience):\n",
    "        self.memory.append(experience)\n",
    "        if len(self.memory) > self.capacity:\n",
    "            self.memory.pop(0)\n",
    "\n",
    "    def sample(self, batch_size):\n",
    "        experiences = random.sample(self.memory, batch_size)\n",
    "        states = torch.from_numpy(np.vstack([e[0] for e in experiences if e is not None])).float().to(self.device)\n",
    "        actions = torch.from_numpy(np.vstack([e[1] for e in experiences if e is not None])).long().to(self.device)\n",
    "        rewards = torch.from_numpy(np.vstack([e[2] for e in experiences if e is not None])).float().to(self.device)\n",
    "        next_states = torch.from_numpy(np.vstack([e[3] for e in experiences if e is not None])).float().to(self.device)\n",
    "        dones = torch.from_numpy(np.vstack([e[4] for e in experiences if e is not None]).astype(np.uint8)).float().to(self.device)\n",
    "        return states, actions, rewards, next_states, dones"
   ]
  },
  {
   "cell_type": "code",
   "execution_count": 3,
   "metadata": {},
   "outputs": [],
   "source": [
    "class Network(nn.Module):\n",
    "    \n",
    "    def __init__(self, state_dim, n_actions):\n",
    "        super(Network, self).__init__()\n",
    "        self.fc1 = nn.Linear(state_dim, 512)\n",
    "        self.fc2 = nn.Linear(512, 512)\n",
    "        self.fc3 = nn.Linear(512, n_actions)\n",
    "\n",
    "    def forward(self, x):\n",
    "        x = F.relu(self.fc1(x))\n",
    "        x = F.relu(self.fc2(x))\n",
    "        x = self.fc3(x)\n",
    "        return x"
   ]
  },
  {
   "cell_type": "code",
   "execution_count": 4,
   "metadata": {},
   "outputs": [],
   "source": [
    "class Agent():\n",
    "    \n",
    "    def __init__(self, state_dim, n_actions, capacity, batch_size, device):\n",
    "        self.state_dim = state_dim\n",
    "        self.n_actions = n_actions\n",
    "        self.device = device\n",
    "        self.batch_size = batch_size\n",
    "        self.buffer = ExperienceReplay(capacity, device)\n",
    "        self.target_network = Network(state_dim, n_actions).to(self.device)\n",
    "        self.local_network = Network(state_dim, n_actions).to(self.device)\n",
    "        self.optimizer = torch.optim.Adam(self.local_network.parameters(), lr=5e-4)\n",
    "        self.criterion = nn.MSELoss().to(self.device)\n",
    "        self.gamma = 0.99\n",
    "        self.epsilon = 1.0\n",
    "        self.epsilon_decay = 0.995\n",
    "        self.epsilon_min = 0.01\n",
    "        self.interpolation = 1e-3\n",
    "        self.time_step_counter = 0\n",
    "        \n",
    "    def update_epsilon(self):\n",
    "        self.epsilon = max(self.epsilon_min, self.epsilon * self.epsilon_decay)\n",
    "    \n",
    "    def select_action(self, state):\n",
    "        state = torch.tensor(state, dtype=torch.float32, device=self.device)\n",
    "        \n",
    "        self.local_network.eval()\n",
    "        with torch.no_grad():\n",
    "            action_values = self.local_network.forward(state)\n",
    "        self.local_network.train()\n",
    "\n",
    "        if random.random() > self.epsilon:\n",
    "            return np.argmax(action_values.cpu().data.numpy())\n",
    "        else:\n",
    "            return random.choice(np.arange(self.n_actions))\n",
    "            \n",
    "    def soft_update(self, local_model, target_model, interpolation_paramater):\n",
    "        for target_param, local_param in zip(target_model.parameters(), local_model.parameters()):\n",
    "            target_param.data.copy_(interpolation_paramater * local_param.data + (1.0 - interpolation_paramater) * target_param)\n",
    "\n",
    "\n",
    "    def learn(self, experience):\n",
    "        states, actions, rewards, next_states, dones = experience\n",
    "        next_q_target = self.target_network(next_states).detach().max(1)[0].unsqueeze(1)\n",
    "        q_target = rewards + (self.gamma * next_q_target * (1-dones))\n",
    "\n",
    "        q_expected = self.local_network(states).gather(1, actions)\n",
    "        # gather method to select only the Q-values corresponding to the actions that were actually taken\n",
    "        \n",
    "        loss = self.criterion(q_expected, q_target)\n",
    "        self.optimizer.zero_grad()\n",
    "        loss.backward()\n",
    "        self.optimizer.step()\n",
    "        self.soft_update(self.local_network, self.target_network, self.interpolation)\n",
    "\n",
    "\n",
    "    def step(self, state, action, reward, next_state, done):\n",
    "        self.buffer.push([state, action, reward, next_state, done])\n",
    "        self.time_step_counter = (self.time_step_counter + 1) % 4\n",
    "        if self.time_step_counter == 0:\n",
    "            if len(self.buffer.memory) > self.batch_size:\n",
    "                experiences = self.buffer.sample(self.batch_size)\n",
    "                self.learn(experiences)"
   ]
  },
  {
   "cell_type": "code",
   "execution_count": 5,
   "metadata": {},
   "outputs": [
    {
     "name": "stderr",
     "output_type": "stream",
     "text": [
      "A.L.E: Arcade Learning Environment (version 0.8.1+53f58b7)\n",
      "[Powered by Stella]\n"
     ]
    }
   ],
   "source": [
    "env_name = 'ALE/Boxing-v5'\n",
    "env = gym.make(env_name, obs_type='ram')\n",
    "\n",
    "state_shape = env.observation_space.shape\n",
    "state_size = env.observation_space.shape[0]\n",
    "n_actions = env.action_space.n\n",
    "\n",
    "\n",
    "device = torch.device('mps' if torch.backends.mps.is_available() else 'cpu')\n",
    "batch_size = 128"
   ]
  },
  {
   "cell_type": "code",
   "execution_count": 6,
   "metadata": {},
   "outputs": [
    {
     "data": {
      "text/plain": [
       "device(type='mps')"
      ]
     },
     "execution_count": 6,
     "metadata": {},
     "output_type": "execute_result"
    }
   ],
   "source": [
    "device"
   ]
  },
  {
   "cell_type": "code",
   "execution_count": 7,
   "metadata": {},
   "outputs": [],
   "source": [
    "agent = Agent(state_size, n_actions, capacity=1e5, batch_size=batch_size, device=device)"
   ]
  },
  {
   "cell_type": "code",
   "execution_count": 8,
   "metadata": {},
   "outputs": [
    {
     "name": "stdout",
     "output_type": "stream",
     "text": [
      "Episode 100\tAverage Score: 1.221\n",
      "Episode 200\tAverage Score: 4.7254\n",
      "Episode 300\tAverage Score: 2.324\n",
      "Episode 400\tAverage Score: 5.089\n",
      "Episode 500\tAverage Score: 6.6778\n",
      "Episode 600\tAverage Score: 22.37\n",
      "Episode 700\tAverage Score: 33.84\n",
      "Episode 800\tAverage Score: 23.78\n",
      "Episode 900\tAverage Score: 25.47\n",
      "Episode 1000\tAverage Score: 33.03\n",
      "Episode 1100\tAverage Score: 46.68\n",
      "Episode 1200\tAverage Score: 48.49\n",
      "Episode 1300\tAverage Score: 32.53\n",
      "Episode 1400\tAverage Score: 35.93\n",
      "Episode 1500\tAverage Score: 10.98\n",
      "Episode 1600\tAverage Score: -4.147\n",
      "Episode 1700\tAverage Score: 23.080\n",
      "Episode 1800\tAverage Score: 42.56\n",
      "Episode 1900\tAverage Score: 53.13\n",
      "Episode 2000\tAverage Score: 37.99\n"
     ]
    }
   ],
   "source": [
    "number_of_episodes = 2000\n",
    "max_number_time_steps_per_episode = 1000\n",
    "scores_list = []\n",
    "\n",
    "for episode in range(1, number_of_episodes+1):\n",
    "    episode_score = []\n",
    "    done = False\n",
    "    state, _ = env.reset()\n",
    "    score = 0\n",
    "    time_step = 0\n",
    "    while not done:\n",
    "        action = agent.select_action(state)\n",
    "        next_state, reward, done, _, _ = env.step(action)\n",
    "        agent.step(state, action, reward, next_state, done)\n",
    "        state = next_state\n",
    "        score += reward\n",
    "        episode_score.append(score)\n",
    "        time_step += 1\n",
    "        if time_step == max_number_time_steps_per_episode:\n",
    "            break\n",
    "    scores_list.append(sum(episode_score)/len(episode_score))\n",
    "    #scores_on_100_episodes.append(score)\n",
    "    agent.update_epsilon()\n",
    "    print('\\rEpisode {}\\tAverage Score: {:.2f}'.format(episode, sum(episode_score)/len(episode_score)), end = \"\")\n",
    "    if episode % 100 == 0:\n",
    "        print('\\rEpisode {}\\tAverage Score: {:.2f}'.format(episode, sum(episode_score)/len(episode_score)))\n",
    "    if sum(episode_score)/len(episode_score) >= 200.0:\n",
    "        print('\\nEnvironment solved in {:d} episodes!\\tAverage Score: {:.2f}'.format(episode - 100, sum(episode_score)/len(episode_score)))\n",
    "        break"
   ]
  },
  {
   "cell_type": "code",
   "execution_count": 9,
   "metadata": {},
   "outputs": [
    {
     "data": {
      "text/plain": [
       "[<matplotlib.lines.Line2D at 0x34230bb10>]"
      ]
     },
     "execution_count": 9,
     "metadata": {},
     "output_type": "execute_result"
    },
    {
     "data": {
      "image/png": "[encoded data removed]",
      "text/plain": [
       "<Figure size 640x480 with 1 Axes>"
      ]
     },
     "metadata": {},
     "output_type": "display_data"
    }
   ],
   "source": [
    "plt.plot([x for x in range(len(scores_list))], scores_list)"
   ]
  },
  {
   "cell_type": "code",
   "execution_count": 16,
   "metadata": {},
   "outputs": [
    {
     "name": "stdout",
     "output_type": "stream",
     "text": [
      "(128,)\n",
      "Total reward: 68.0\n"
     ]
    }
   ],
   "source": [
    "def create_virtual_display():\n",
    "    display = Display(visible=0, size=(1400, 900))\n",
    "    display.start()\n",
    "    return display\n",
    "\n",
    "frames = [] \n",
    "\n",
    "def watch_agent(env_name):\n",
    "    env = gym.make(env_name, obs_type='ram', render_mode = 'rgb_array')\n",
    "    state, _ = env.reset()\n",
    "    total_reward = 0\n",
    "    print(state.shape)\n",
    "    while True:\n",
    "        frames.append(env.render()) \n",
    "        action = agent.select_action(state)\n",
    "        state, reward, done, _, _ = env.step(action)\n",
    "        total_reward += reward\n",
    "\n",
    "        if done:\n",
    "            break\n",
    "\n",
    "    print(\"Total reward:\", total_reward)\n",
    "    env.close()\n",
    "    \n",
    "\n",
    "def save_video(frames, video_name='q_learning_self_agent_video', fps=30):\n",
    "    height, width, _ = frames[0].shape\n",
    "    fourcc = cv2.VideoWriter_fourcc(*'mp4v')\n",
    "    out = cv2.VideoWriter(video_name + '.mp4', fourcc, fps, (width, height))\n",
    "\n",
    "    for frame in frames:\n",
    "        out.write(frame)\n",
    "\n",
    "    out.release()\n",
    "\n",
    "watch_agent(env_name)\n",
    "save_video(frames, video_name='q_learning_agent_video_self', fps=30)"
   ]
  },
  {
   "cell_type": "code",
   "execution_count": 17,
   "metadata": {},
   "outputs": [],
   "source": [
    "torch.save(agent.local_network.state_dict(), '/Users/desidero/Desktop/boxing.pth')"
   ]
  }
 ],
 "metadata": {
  "kernelspec": {
   "display_name": "Python 3 (ipykernel)",
   "language": "python",
   "name": "python3"
  },
  "language_info": {
   "codemirror_mode": {
    "name": "ipython",
    "version": 3
   },
   "file_extension": ".py",
   "mimetype": "text/x-python",
   "name": "python",
   "nbconvert_exporter": "python",
   "pygments_lexer": "ipython3",
   "version": "3.11.5"
  }
 },
 "nbformat": 4,
 "nbformat_minor": 2
}
